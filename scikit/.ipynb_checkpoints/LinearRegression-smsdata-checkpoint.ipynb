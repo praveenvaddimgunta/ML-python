{
 "cells": [
  {
   "cell_type": "code",
   "execution_count": 4,
   "metadata": {
    "collapsed": false
   },
   "outputs": [
    {
     "name": "stdout",
     "output_type": "stream",
     "text": [
      "0.00668527072437\n",
      "0.000327480689262\n",
      "0.0180964275276\n"
     ]
    }
   ],
   "source": [
    "#linear regression sms dataset\n",
    "from sklearn.feature_extraction.text import CountVectorizer\n",
    "import pandas as pd\n",
    "from sklearn.cross_validation import train_test_split\n",
    "from sklearn.linear_model import LinearRegression\n",
    "from sklearn import metrics\n",
    "import numpy as np\n",
    "path = 'data/sms.tsv'\n",
    "sms = pd.read_table(path, header = None, names = ['label','message'])\n",
    "sms['label_num'] = sms.label.map({'ham':0,'spam':1})\n",
    "X = sms.message\n",
    "y = sms.label_num\n",
    "vect = CountVectorizer()\n",
    "x_dtm = vect.fit_transform(X)\n",
    "linreg  = LinearRegression()\n",
    "linreg.fit(x_dtm,y)\n",
    "y_pred = linreg.predict(x_dtm)\n",
    "print metrics.mean_absolute_error(y,y_pred)\n",
    "print metrics.mean_squared_error(y,y_pred)\n",
    "print np.sqrt(metrics.mean_squared_error(y,y_pred))\n",
    "\n"
   ]
  }
 ],
 "metadata": {
  "anaconda-cloud": {},
  "kernelspec": {
   "display_name": "Python [conda root]",
   "language": "python",
   "name": "conda-root-py"
  },
  "language_info": {
   "codemirror_mode": {
    "name": "ipython",
    "version": 3
   },
   "file_extension": ".py",
   "mimetype": "text/x-python",
   "name": "python",
   "nbconvert_exporter": "python",
   "pygments_lexer": "ipython3",
   "version": "3.5.2"
  }
 },
 "nbformat": 4,
 "nbformat_minor": 0
}
