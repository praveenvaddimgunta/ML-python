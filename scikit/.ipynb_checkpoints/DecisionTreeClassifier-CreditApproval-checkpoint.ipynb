{
 "cells": [
  {
   "cell_type": "code",
   "execution_count": 5,
   "metadata": {
    "collapsed": false
   },
   "outputs": [
    {
     "name": "stdout",
     "output_type": "stream",
     "text": [
      "[0 1 1 1 0 0 1 1 1 0 1 1 0 0 0 0 0 0 1 0 0 0 0 1 1 1 0 0 0 1 1 1 1 0 1 0 1\n",
      " 1 0 0 0 1 1 1 0 0 1 0 0 1 1 1 0 1 0 0 1 1 0 0 1 0 0 1 0 0 0 1 1 0 1 0 0 1\n",
      " 0 0 1 0 1 1 0 1 1 0 1 1 0 0 0 1 0 1 0 0 0 0 0 0 0 1 0 1 1 1 0 1 0 1 0 0 0\n",
      " 1 0 0 0 0 0 0 1 1 1 1 1 0 1 1 0 0 0 0 0 1 0 1 0 0 0 0]\n",
      "[0 1 1 1 0 1 1 1 1 0 1 1 0 0 0 0 0 0 0 0 0 0 0 1 1 1 1 0 0 1 0 1 0 0 1 0 1\n",
      " 1 0 0 0 1 0 0 1 0 1 0 0 0 1 1 0 1 0 0 1 1 0 0 1 0 0 1 0 0 0 1 0 1 1 0 0 1\n",
      " 0 0 1 0 1 1 0 1 1 0 1 0 0 0 1 1 0 1 1 0 0 0 0 0 0 1 0 1 1 0 0 1 0 1 1 0 0\n",
      " 0 0 0 0 0 1 1 1 1 1 1 1 0 1 1 0 0 0 1 0 1 0 1 0 1 0 1]\n",
      "0.840579710145\n",
      "Confusion Matrix :\n",
      "[[66 12]\n",
      " [10 50]]\n"
     ]
    }
   ],
   "source": [
    "#Decisiontree classifier using CreditApproval dataset\n",
    "import pandas\n",
    "import numpy\n",
    "from sklearn import cross_validation\n",
    "from sklearn.tree import DecisionTreeClassifier\n",
    "from sklearn.metrics import accuracy_score\n",
    "from sklearn import metrics\n",
    "\n",
    "names = ['A1','A2','A3','A4','A5','A6','A7','A8','A9','A10','A11','A12','A13','A14','A15','A16']\n",
    "dataframe = pandas.read_csv(\"data/CreditApproval.csv\", names = names)\n",
    "dataframe = dataframe.fillna(method = 'ffill')\n",
    "dataframe['A16'].replace(\"+\", 1, inplace = True)\n",
    "dataframe['A16'].replace(\"-\", 0, inplace = True)\n",
    "dataframe = pandas.get_dummies(dataframe)\n",
    "X = numpy.array(dataframe.drop(['A16'],1))\n",
    "y = numpy.array(dataframe['A16'])\n",
    "\n",
    "X_train, X_test, y_train, y_test = cross_validation.train_test_split(X, y, test_size=0.2)\n",
    "\n",
    "DecisionTree = DecisionTreeClassifier()\n",
    "DecisionTree.fit(X_train, y_train)\n",
    "\n",
    "y_pred = DecisionTree.predict(X_test)\n",
    "\n",
    "print (y_test)\n",
    "print (y_pred)\n",
    "\n",
    "print (accuracy_score(y_test,y_pred))\n",
    "\n",
    "print (\"Confusion Matrix :\")\n",
    "print (metrics.confusion_matrix(y_test, y_pred))"
   ]
  },
  {
   "cell_type": "code",
   "execution_count": null,
   "metadata": {
    "collapsed": true
   },
   "outputs": [],
   "source": []
  }
 ],
 "metadata": {
  "anaconda-cloud": {},
  "kernelspec": {
   "display_name": "Python [default]",
   "language": "python",
   "name": "python3"
  },
  "language_info": {
   "codemirror_mode": {
    "name": "ipython",
    "version": 3
   },
   "file_extension": ".py",
   "mimetype": "text/x-python",
   "name": "python",
   "nbconvert_exporter": "python",
   "pygments_lexer": "ipython3",
   "version": "3.5.2"
  }
 },
 "nbformat": 4,
 "nbformat_minor": 1
}
