{
 "cells": [
  {
   "cell_type": "code",
   "execution_count": 2,
   "metadata": {
    "collapsed": false
   },
   "outputs": [
    {
     "name": "stdout",
     "output_type": "stream",
     "text": [
      "cold: 17\n",
      "cool: 92\n",
      "warm: 79\n",
      "hot: 25\n",
      "Training set 181 items\n",
      "Test set 32 items\n",
      "Predicted: warm  Actual: cool\n",
      "Predicted: hot  Actual: warm\n",
      "Predicted: warm  Actual: warm\n",
      "Predicted: warm  Actual: warm\n",
      "Predicted: cold  Actual: cool\n",
      "Predicted: cold  Actual: cool\n",
      "Predicted: cool  Actual: cool\n",
      "Predicted: warm  Actual: warm\n",
      "Predicted: warm  Actual: warm\n",
      "Predicted: cold  Actual: cold\n",
      "Predicted: cold  Actual: cold\n",
      "Predicted: warm  Actual: warm\n",
      "Predicted: cool  Actual: cold\n",
      "Predicted: warm  Actual: warm\n",
      "Predicted: warm  Actual: warm\n",
      "Predicted: cool  Actual: warm\n",
      "Predicted: warm  Actual: warm\n",
      "Predicted: warm  Actual: hot\n",
      "Predicted: cold  Actual: cold\n",
      "Predicted: cold  Actual: cold\n",
      "Predicted: cold  Actual: cold\n",
      "Predicted: hot  Actual: hot\n",
      "Predicted: warm  Actual: cool\n",
      "Predicted: hot  Actual: warm\n",
      "Predicted: cool  Actual: cool\n",
      "Predicted: cool  Actual: cool\n",
      "Predicted: cool  Actual: cool\n",
      "Predicted: warm  Actual: warm\n",
      "Predicted: hot  Actual: warm\n",
      "Predicted: cool  Actual: cool\n",
      "Predicted: warm  Actual: warm\n",
      "Predicted: cool  Actual: cool\n",
      "Percent correct: 0.6875\n"
     ]
    }
   ],
   "source": [
    "#decision tree classifier cities dataset\n",
    "import csv\n",
    "import pandas as pd\n",
    "import sklearn\n",
    "from sklearn.tree import DecisionTreeClassifier\n",
    "f = open('data/Cities.csv','r')\n",
    "cities = pd.read_csv(f)\n",
    "cats = []\n",
    "for i in range(len(cities)):\n",
    "    if cities.ix[i]['temperature'] < 5:\n",
    "        cats.append('cold')\n",
    "    elif cities.ix[i]['temperature'] < 9:\n",
    "        cats.append('cool')\n",
    "    elif cities.ix[i]['temperature'] < 15:\n",
    "        cats.append('warm')\n",
    "    else: cats.append('hot')\n",
    "cities['category'] = cats\n",
    "print (\"cold:\", len(cities[(cities.category == 'cold')]))\n",
    "print (\"cool:\", len(cities[(cities.category == 'cool')]))\n",
    "print (\"warm:\", len(cities[(cities.category == 'warm')]))\n",
    "print (\"hot:\", len(cities[(cities.category == 'hot')]))\n",
    "# Create training and test sets for cities data\n",
    "numitems = len(cities)\n",
    "percenttrain = 0.85\n",
    "numtrain = int(numitems*percenttrain)\n",
    "numtest = numitems - numtrain\n",
    "print ('Training set', numtrain, 'items')\n",
    "print ('Test set', numtest, 'items')\n",
    "citiesTrain = cities[0:numtrain]\n",
    "citiesTest = cities[numtrain:numitems]\n",
    "# Predict temperature category from other features\n",
    "features = ['longitude', 'latitude']\n",
    "featurevals = citiesTrain[features]\n",
    "labels = citiesTrain['category']\n",
    "dt = DecisionTreeClassifier(min_samples_split=10) # parameter is optional\n",
    "dt.fit(featurevals,labels)\n",
    "predictions = dt.predict(citiesTest[features])\n",
    "# Calculate accuracy\n",
    "numtrain = len(citiesTrain)\n",
    "numtest = len(citiesTest)\n",
    "correct = 0\n",
    "for i in range(numtest):\n",
    "    print ('Predicted:', predictions[i], ' Actual:', citiesTest.ix[numtrain+i]['category'])\n",
    "    if predictions[i] == citiesTest.ix[numtrain+i]['category']: correct +=1\n",
    "print ('Percent correct:', float(correct)/float(numtest))"
   ]
  },
  {
   "cell_type": "code",
   "execution_count": null,
   "metadata": {
    "collapsed": true
   },
   "outputs": [],
   "source": []
  }
 ],
 "metadata": {
  "anaconda-cloud": {},
  "kernelspec": {
   "display_name": "Python [default]",
   "language": "python",
   "name": "python3"
  },
  "language_info": {
   "codemirror_mode": {
    "name": "ipython",
    "version": 3
   },
   "file_extension": ".py",
   "mimetype": "text/x-python",
   "name": "python",
   "nbconvert_exporter": "python",
   "pygments_lexer": "ipython3",
   "version": "3.5.2"
  }
 },
 "nbformat": 4,
 "nbformat_minor": 1
}
