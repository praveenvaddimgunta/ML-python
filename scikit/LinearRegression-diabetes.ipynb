{
 "cells": [
  {
   "cell_type": "code",
   "execution_count": 4,
   "metadata": {
    "collapsed": false
   },
   "outputs": [
    {
     "name": "stdout",
     "output_type": "stream",
     "text": [
      "0.332200329797\n",
      "0.158291431313\n",
      "0.397858556918\n"
     ]
    }
   ],
   "source": [
    "#linear regression Pima Indians Diabetes Data Set \n",
    "import pandas\n",
    "from sklearn import cross_validation\n",
    "from sklearn.linear_model import LinearRegression\n",
    "from sklearn import metrics\n",
    "import numpy as np\n",
    "path = 'data/diabetes.csv'\n",
    "names = ['preg', 'plas', 'pres', 'skin', 'test', 'mass', 'pedi', 'age', 'class']\n",
    "dataframe = pandas.read_csv(path, names=names)\n",
    "array = dataframe.values\n",
    "X = array[:,0:8]\n",
    "y = array[:,8]\n",
    "linreg  = LinearRegression()\n",
    "linreg.fit(X,y)\n",
    "y_pred = linreg.predict(X)\n",
    "print (metrics.mean_absolute_error(y,y_pred))\n",
    "print (metrics.mean_squared_error(y,y_pred))\n",
    "print (np.sqrt(metrics.mean_squared_error(y,y_pred)))"
   ]
  },
  {
   "cell_type": "code",
   "execution_count": null,
   "metadata": {
    "collapsed": true
   },
   "outputs": [],
   "source": []
  }
 ],
 "metadata": {
  "anaconda-cloud": {},
  "kernelspec": {
   "display_name": "Python [conda root]",
   "language": "python",
   "name": "conda-root-py"
  },
  "language_info": {
   "codemirror_mode": {
    "name": "ipython",
    "version": 3
   },
   "file_extension": ".py",
   "mimetype": "text/x-python",
   "name": "python",
   "nbconvert_exporter": "python",
   "pygments_lexer": "ipython3",
   "version": "3.5.2"
  }
 },
 "nbformat": 4,
 "nbformat_minor": 0
}
