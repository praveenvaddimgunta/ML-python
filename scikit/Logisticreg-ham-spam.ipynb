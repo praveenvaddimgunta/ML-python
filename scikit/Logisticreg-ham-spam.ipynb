{
 "cells": [
  {
   "cell_type": "code",
   "execution_count": 8,
   "metadata": {
    "collapsed": false
   },
   "outputs": [
    {
     "name": "stdout",
     "output_type": "stream",
     "text": [
      "0.997607083034\n",
      "0.987796123475\n"
     ]
    }
   ],
   "source": [
    "#logistic regression sms dataset\n",
    "from sklearn.feature_extraction.text import CountVectorizer\n",
    "import pandas as pd\n",
    "from sklearn.cross_validation import train_test_split\n",
    "from sklearn.linear_model import LogisticRegression\n",
    "from sklearn import metrics\n",
    "import numpy as np\n",
    "path = 'data/sms.tsv'\n",
    "sms = pd.read_table(path, header = None, names = ['label','message'])\n",
    "sms['label_num'] = sms.label.map({'ham':0,'spam':1})\n",
    "X = sms.message\n",
    "y = sms.label_num\n",
    "#split x and y into training and testing sets.\n",
    "vect = CountVectorizer()\n",
    "X_train,X_test,y_train,y_test = train_test_split(X,y,random_state = 1)\n",
    "X_train_dtm = vect.fit_transform(X_train)\n",
    "X_test_dtm = vect.transform(X_test)\n",
    "logreg = LogisticRegression()\n",
    "logreg.fit(X_train_dtm,y_train)\n",
    "y_pred_class = logreg.predict(X_train_dtm)\n",
    "print(metrics.accuracy_score(y_train,y_pred_class))\n",
    "y_pred = logreg.predict(X_test_dtm)\n",
    "print(metrics.accuracy_score(y_test,y_pred))\n"
   ]
  },
  {
   "cell_type": "code",
   "execution_count": null,
   "metadata": {
    "collapsed": true
   },
   "outputs": [],
   "source": []
  }
 ],
 "metadata": {
  "anaconda-cloud": {},
  "kernelspec": {
   "display_name": "Python [conda root]",
   "language": "python",
   "name": "conda-root-py"
  },
  "language_info": {
   "codemirror_mode": {
    "name": "ipython",
    "version": 3
   },
   "file_extension": ".py",
   "mimetype": "text/x-python",
   "name": "python",
   "nbconvert_exporter": "python",
   "pygments_lexer": "ipython3",
   "version": "3.5.2"
  }
 },
 "nbformat": 4,
 "nbformat_minor": 0
}
